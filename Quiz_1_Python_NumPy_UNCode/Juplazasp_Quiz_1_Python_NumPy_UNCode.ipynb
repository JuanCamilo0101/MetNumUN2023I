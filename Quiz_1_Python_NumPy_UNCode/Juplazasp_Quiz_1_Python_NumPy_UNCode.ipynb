{
  "nbformat": 4,
  "nbformat_minor": 0,
  "metadata": {
    "colab": {
      "provenance": [],
      "include_colab_link": true
    },
    "kernelspec": {
      "name": "python3",
      "display_name": "Python 3"
    }
  },
  "cells": [
    {
      "cell_type": "markdown",
      "metadata": {
        "id": "view-in-github",
        "colab_type": "text"
      },
      "source": [
        "<a href=\"https://colab.research.google.com/github/JuanCamilo0101/MetNumUN2023I/blob/main/Quiz_1_Python_NumPy_UNCode/Juplazasp_Quiz_1_Python_NumPy_UNCode.ipynb\" target=\"_parent\"><img src=\"https://colab.research.google.com/assets/colab-badge.svg\" alt=\"Open In Colab\"/></a>"
      ]
    },
    {
      "cell_type": "markdown",
      "metadata": {
        "id": "4Gb04XWVHDB6"
      },
      "source": [
        "# **Quiz 1 - Python NumPy**\n",
        "---\n",
        "This quiz will help you practice the skills coding in Python and using Numpy.\n",
        "\n",
        "> **Note:** This aquiz will be graded on **UNCode** **[https://uncode.unal.edu.co/](https://uncode.unal.edu.co/)** ([doumentation](https://juezun.github.io/)). In each exercise is indicated where you should write your code. Complete the code, download the file submit it in **UNCode**."
      ]
    },
    {
      "cell_type": "code",
      "metadata": {
        "id": "875DsJCur8zB",
        "colab": {
          "base_uri": "https://localhost:8080/"
        },
        "outputId": "2653de51-01a0-4e9c-e9b6-3e10b3875572"
      },
      "source": [
        "!python --version\n",
        "import numpy as np\n",
        "\n",
        "print('NumPy', np.__version__)"
      ],
      "execution_count": 15,
      "outputs": [
        {
          "output_type": "stream",
          "name": "stdout",
          "text": [
            "Python 3.8.10\n",
            "NumPy 1.22.4\n"
          ]
        }
      ]
    },
    {
      "cell_type": "markdown",
      "metadata": {
        "id": "Xyl5fF0zr9r4"
      },
      "source": [
        "This quiz was created originaly in:\n",
        "\n",
        "- Python 3.6.9\n",
        "\n",
        "- NumPy: 1.19.5"
      ]
    },
    {
      "cell_type": "markdown",
      "source": [
        "## **1. *FizzBuzz*  - Python**"
      ],
      "metadata": {
        "id": "rN2shbVJV7-S"
      }
    },
    {
      "cell_type": "markdown",
      "source": [
        "---\n",
        "\n",
        "###**Problem Description**\n",
        "\n",
        "**Task:** Given an integer $x$ return:\n",
        " \n",
        "\n",
        "*   The string \"**`Fizz!`**\" if $x$ is divisible by $3$ and not  divisible by $5$.\n",
        "*    The string \"**`Buzz!`**\" if $x$ is divisible by $5$ and not  divisible by $3$.\n",
        "*    The string \"**`FizzBuzz!`**\" if $x$ is divisible by both $5$ and divisible by $3$.\n",
        "*    The string \"**`...`**\" otherwise.\n",
        "\n",
        "**Input Format:** The input consists of a single integer $x$. \n",
        "\n",
        "**Constraints:** $x$ is an integer\n",
        "\n",
        "**Output Format:**  the output is a string."
      ],
      "metadata": {
        "id": "l8vwLDS8OMdp"
      }
    },
    {
      "cell_type": "markdown",
      "source": [
        "**Sample testcases**\n",
        "\n",
        "```python\n",
        "#run this sample testcases to help you validate your solution\n",
        "\n",
        "FizzBuzz(3)\n",
        "\n",
        "#  --> Expected output: Fizz!\n",
        "\n",
        "FizzBuzz(11)\n",
        "\n",
        "#  --> Expected output: ...\n",
        "\n",
        "FizzBuzz(5)\n",
        "#  --> Expected output: Buzz!\n",
        "\n",
        "FizzBuzz(7)\n",
        "#  --> Expected output:...\n",
        "\n",
        "FizzBuzz(15)\n",
        "#  --> Expected output: FizzBuzz!\n",
        "```\n",
        "\n",
        "---"
      ],
      "metadata": {
        "id": "seLwJoVTPqMb"
      }
    },
    {
      "cell_type": "markdown",
      "source": [
        "**Solution**"
      ],
      "metadata": {
        "id": "BX8ejJrpQdgb"
      }
    },
    {
      "cell_type": "code",
      "source": [
        "#Do not change this function's name, parameters or output format. It will be used in automatic grading.\n",
        "def FizzBuzz(x):\n",
        "    if x % 3 == 0 and x % 5 == 0:\n",
        "        return \"FizzBuzz!\"\n",
        "    elif x % 3 == 0:\n",
        "        return \"Fizz!\"\n",
        "    elif x % 5 == 0:\n",
        "        return \"Buzz!\"\n",
        "    else:\n",
        "        return \"...\"\n"
      ],
      "metadata": {
        "id": "4kkesp9PQisR"
      },
      "execution_count": 16,
      "outputs": []
    },
    {
      "cell_type": "markdown",
      "metadata": {
        "id": "BA-nbOmnPYl6"
      },
      "source": [
        "<details>    \n",
        "<summary>\n",
        "    <font size=\"3\" color=\"darkgreen\"><b>Verification cases </b></font>\n",
        "</summary>\n"
      ]
    },
    {
      "cell_type": "code",
      "metadata": {
        "id": "xicbXt1uYDDt",
        "colab": {
          "base_uri": "https://localhost:8080/"
        },
        "outputId": "35411e43-2f85-4db1-bc2f-7a8bd0c907fb"
      },
      "source": [
        "print(FizzBuzz(3))\n",
        "print(FizzBuzz(7))\n",
        "print(FizzBuzz(5))\n",
        "print(FizzBuzz(11))\n",
        "print(FizzBuzz(15))"
      ],
      "execution_count": 17,
      "outputs": [
        {
          "output_type": "stream",
          "name": "stdout",
          "text": [
            "Fizz!\n",
            "...\n",
            "Buzz!\n",
            "...\n",
            "FizzBuzz!\n"
          ]
        }
      ]
    },
    {
      "cell_type": "markdown",
      "metadata": {
        "id": "gS8eqbf4X2Am"
      },
      "source": [
        "Expected output:\n",
        "``` \n",
        "Fizz!\n",
        "...\n",
        "Buzz!\n",
        "...\n",
        "FizzBuzz!\n",
        "```"
      ]
    },
    {
      "cell_type": "markdown",
      "metadata": {
        "id": "HwSDMxzDMWMF"
      },
      "source": [
        "## **2. *FizzBuzzList*  - Python**\n",
        "---\n",
        "\n",
        "Write the function *FizzBuzzList* that returns a list with the answers of *FizzBuzz* for the integer numbers $1$ to $n$ (including $n$)."
      ]
    },
    {
      "cell_type": "markdown",
      "source": [
        "---\n",
        "\n",
        "###**Problem Description**\n",
        "\n",
        "**Task:** Given an integer $n$ return the list with the *FizzBuzz* answers for the integer numbers $1$ to $n$ (including $n$).\n",
        "  \n",
        "\n",
        "**Input Format:** The input consists of a single integer $n$. \n",
        "\n",
        "**Constraints:** $n$ is an integer\n",
        "\n",
        "**Output Format:**  list with the *FizzBuzz* answers, if the input is not positive return an empty list."
      ],
      "metadata": {
        "id": "KCPEZwq6XZcC"
      }
    },
    {
      "cell_type": "markdown",
      "source": [
        "**Sample testcases**\n",
        "\n",
        "```python\n",
        "#run this sample testcases to help you validate your solution\n",
        "\n",
        "FizzBuzzList(4)\n",
        "#  --> Expected output: ['...', '...', 'Fizz!', '...']\n",
        " \n",
        "FizzBuzzList(-1)\n",
        "#  --> Expected output: []\n",
        "```\n",
        "---"
      ],
      "metadata": {
        "id": "MbjrKp6ZYOUq"
      }
    },
    {
      "cell_type": "markdown",
      "source": [
        "**Solution**"
      ],
      "metadata": {
        "id": "O-OLGB5BZIQq"
      }
    },
    {
      "cell_type": "code",
      "source": [
        "#Do not change this function's name, parameters or output format. It will be used in automatic grading.\n",
        "def FizzBuzzList(n):\n",
        "    if n < 1:\n",
        "        return []\n",
        "    ans = []\n",
        "    for i in range(1, n+1):\n",
        "        if i % 3 == 0 and i % 5 == 0:\n",
        "            ans.append(\"FizzBuzz!\")\n",
        "        elif i % 3 == 0:\n",
        "            ans.append(\"Fizz!\")\n",
        "        elif i % 5 == 0:\n",
        "            ans.append(\"Buzz!\")\n",
        "        else:\n",
        "            ans.append(\"...\")\n",
        "    return ans"
      ],
      "metadata": {
        "id": "dIYchJvEZMEJ"
      },
      "execution_count": 18,
      "outputs": []
    },
    {
      "cell_type": "markdown",
      "source": [
        "<details>    \n",
        "<summary>\n",
        "    <font size=\"3\" color=\"darkgreen\"><b>Verification cases </b></font>\n",
        "</summary>"
      ],
      "metadata": {
        "id": "P0-XPf1xZokq"
      }
    },
    {
      "cell_type": "code",
      "source": [
        "print(FizzBuzzList(5))\n",
        "print(FizzBuzzList(-30))"
      ],
      "metadata": {
        "id": "4EXUbJmJZxPq",
        "colab": {
          "base_uri": "https://localhost:8080/"
        },
        "outputId": "d4af5cb7-c514-4255-badb-31a4ce6e19c3"
      },
      "execution_count": 19,
      "outputs": [
        {
          "output_type": "stream",
          "name": "stdout",
          "text": [
            "['...', '...', 'Fizz!', '...', 'Buzz!']\n",
            "[]\n"
          ]
        }
      ]
    },
    {
      "cell_type": "markdown",
      "source": [
        "Expected output:\n",
        "``` \n",
        "['...', '...', 'Fizz!', '...', 'Buzz!']\n",
        "[]\n",
        "```"
      ],
      "metadata": {
        "id": "rybnp7wcZu_K"
      }
    },
    {
      "cell_type": "markdown",
      "source": [
        "## **3. *Standarize* - z scores - NumPy**"
      ],
      "metadata": {
        "id": "6Yepp3PEoPjA"
      }
    },
    {
      "cell_type": "markdown",
      "source": [
        "---\n",
        "\n",
        "###**Problem Description**\n",
        "\n",
        "**Task:** Given an numpy array $X$ return the corresponding standard scores.\n",
        "  \n",
        "**Input Format:** The input consists of a numpy array $X$. \n",
        "\n",
        "**Output Format:**  A numpy array with standard scores corresponding to $X$."
      ],
      "metadata": {
        "id": "XT89Dri7gIJ4"
      }
    },
    {
      "cell_type": "markdown",
      "source": [
        "**Sample testcases**\n",
        "\n",
        "```python\n",
        "#run this sample testcases to help you validate your solution\n",
        "\n",
        "X0 = np.array([4.8, 4.0, 4.2, 4.0, 5.0])\n",
        "standarize(X0)\n",
        "\n",
        "#  --> Expected output: array([ 0.95346259, -0.95346259, -0.47673129, -0.95346259,  1.43019388])\n",
        "\n",
        "X1 = np.arange(5)\n",
        "standarize(X1)\n",
        "\n",
        "#  --> Expected output: array([-1.41421356, -0.70710678,  0.        ,  0.70710678,  1.41421356])\n",
        "\n",
        "```\n",
        "---"
      ],
      "metadata": {
        "id": "6N0JF_0-m_AB"
      }
    },
    {
      "cell_type": "markdown",
      "source": [
        "**Solution**"
      ],
      "metadata": {
        "id": "frfaDDj0k7tJ"
      }
    },
    {
      "cell_type": "code",
      "source": [
        "#Do not change this function's name, parameters or output format. It will be used in automatic grading.\n",
        "\n",
        "import numpy as np\n",
        "\n",
        "def standarize(X):\n",
        "  X_standarized = ((X - np.mean(X)) / np.std(X))\n",
        "  return X_standarized"
      ],
      "metadata": {
        "id": "vUf0_xqXgHSj"
      },
      "execution_count": 21,
      "outputs": []
    },
    {
      "cell_type": "code",
      "source": [
        "X0 = np.array([4.8, 4.0, 4.2, 4.0, 5.0])\n",
        "standarize(X0)\n"
      ],
      "metadata": {
        "colab": {
          "base_uri": "https://localhost:8080/"
        },
        "id": "ccqg0kL85mdU",
        "outputId": "296d0abf-4e0d-45d7-cce9-79251284b1ec"
      },
      "execution_count": 22,
      "outputs": [
        {
          "output_type": "execute_result",
          "data": {
            "text/plain": [
              "array([ 0.95346259, -0.95346259, -0.47673129, -0.95346259,  1.43019388])"
            ]
          },
          "metadata": {},
          "execution_count": 22
        }
      ]
    },
    {
      "cell_type": "code",
      "source": [
        "X1 = np.arange(5)\n",
        "standarize(X1)\n"
      ],
      "metadata": {
        "colab": {
          "base_uri": "https://localhost:8080/"
        },
        "id": "54Gnt4nq7FwG",
        "outputId": "7d451d66-0d1d-4f49-9ccd-e95755c41a1f"
      },
      "execution_count": 23,
      "outputs": [
        {
          "output_type": "execute_result",
          "data": {
            "text/plain": [
              "array([-1.41421356, -0.70710678,  0.        ,  0.70710678,  1.41421356])"
            ]
          },
          "metadata": {},
          "execution_count": 23
        }
      ]
    },
    {
      "cell_type": "markdown",
      "source": [
        "## **4. *Main diagonal matrix*  - NumPy**"
      ],
      "metadata": {
        "id": "4GU-LwecnqCR"
      }
    },
    {
      "cell_type": "markdown",
      "source": [
        "---\n",
        "\n",
        "###**Problem Description**\n",
        "\n",
        "**Task:** Given a numpy matrix $A$ (2-D array) return the diagonal matrix with the elements of its main diagonal.\n",
        " \n",
        "\n",
        "**Input Format:** The input consists of a numpy matrix $A$ (2-D array).\n",
        "\n",
        "**Output Format:**  The diagonal matrix with the elemnts of its main diagonal."
      ],
      "metadata": {
        "id": "9GfUMP5vsawZ"
      }
    },
    {
      "cell_type": "markdown",
      "source": [
        "**Sample testcases**\n",
        "\n",
        "```python\n",
        "#run this sample testcases to help you validate your solution\n",
        "\n",
        "A = np.array([\n",
        "    [1, 0, 2, 9, 2],\n",
        "    [9, 2, 6, 5, 7],\n",
        "    [6, 4, 3, 4, 7]\n",
        "    \n",
        "])\n",
        "main_diagonal_matrix(A)\n",
        "#  --> Expected output: \n",
        "array([[1., 0., 0.],\n",
        "       [0., 2., 0.],\n",
        "       [0., 0., 3.]])\n",
        "\n",
        "A = np.array([\n",
        "    [4, 0, 2],\n",
        "    [9, 5, 6],\n",
        "    [1, 9, 6],\n",
        "    [3, 0, 5]\n",
        "    \n",
        "])\n",
        "main_diagonal_matrix(A)\n",
        "#  --> Expected output: \n",
        "array([[4., 0., 0.],\n",
        "       [0., 5., 0.],\n",
        "       [0., 0., 6.]])\n",
        "```\n",
        "---"
      ],
      "metadata": {
        "id": "nG7hzC4JtrvZ"
      }
    },
    {
      "cell_type": "code",
      "source": [
        "#Do not change this function's name, parameters or output format. It will be used in automatic grading.\n",
        "\n",
        "import numpy as np\n",
        "\n",
        "def main_diagonal_matrix(A):\n",
        "  D = np.diag(np.diag(A)).astype(float)\n",
        "  return D"
      ],
      "metadata": {
        "id": "thogtwflo6-x"
      },
      "execution_count": 26,
      "outputs": []
    },
    {
      "cell_type": "code",
      "source": [
        "A = np.array([\n",
        "    [1, 0, 2, 9, 2],\n",
        "    [9, 2, 6, 5, 7],\n",
        "    [6, 4, 3, 4, 7]\n",
        "\n",
        "])\n",
        "main_diagonal_matrix(A)"
      ],
      "metadata": {
        "colab": {
          "base_uri": "https://localhost:8080/"
        },
        "id": "fU6o3kxP8ogn",
        "outputId": "560ebe9b-dff5-40f2-dbfd-2fdc8bde0057"
      },
      "execution_count": 33,
      "outputs": [
        {
          "output_type": "execute_result",
          "data": {
            "text/plain": [
              "array([[1., 0., 0.],\n",
              "       [0., 2., 0.],\n",
              "       [0., 0., 3.]])"
            ]
          },
          "metadata": {},
          "execution_count": 33
        }
      ]
    },
    {
      "cell_type": "code",
      "source": [
        "A = np.array([\n",
        "    [4, 0, 2],\n",
        "    [9, 5, 6],\n",
        "    [1, 9, 6],\n",
        "    [3, 0, 5]\n",
        "\n",
        "])\n",
        "main_diagonal_matrix(A)"
      ],
      "metadata": {
        "colab": {
          "base_uri": "https://localhost:8080/"
        },
        "id": "w_mGTCrL8-9E",
        "outputId": "10731fe8-4b40-4d24-844c-2dcf395be5cf"
      },
      "execution_count": 28,
      "outputs": [
        {
          "output_type": "execute_result",
          "data": {
            "text/plain": [
              "array([[4., 0., 0.],\n",
              "       [0., 5., 0.],\n",
              "       [0., 0., 6.]])"
            ]
          },
          "metadata": {},
          "execution_count": 28
        }
      ]
    }
  ]
}